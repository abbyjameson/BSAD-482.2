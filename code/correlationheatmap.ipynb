import pandas
import seaborn as sns
import matplotlib.pyplot as plt
import matplotlib.colors as mcolors

df = pandas.read_csv("https://raw.githubusercontent.com/abbyjameson/BSAD-482.2/main/data/CSVversionofcstadsdata.csv")

kpi_columns = ["Province (PROVID)", "GRADE", "Gender (DVGENDER)", "Rural or Urban (DVURBAN)", "How long lived in Canada (DVRES)", "Race/Ethnicity (DVDESCRIBE)", "Will you use in the next 12 mo?  (VAP_010)", "Which flavor do you vape most often? (VAP_020)", "Main reason for trying the first time (VAP_030)", "Main reason for currently using (VAP_040)", "Where do you usually get your vaping device(VAP_050a)", "Where do you get e-liquid/pods (VAP_050b)", "In last 12 months, how many times have you stopped (VAP_060)"]
df_kpi = df[kpi_columns]

for col in df_kpi.select_dtypes(include=['object']).columns:
    df_kpi[col], _ = pandas.factorize(df_kpi[col])

my_cmap = mcolors.LinearSegmentedColormap('my_cmap', segmentdata={
    'red': [(0, 1, 1), (0.5, 1, 1), (1, 0, 0)],
    'green': [(0, 0, 0), (0.5, 1, 1), (1, 1, 1)],
    'blue': [(0, 0, 0), (0.5, 1, 1), (1, 0, 0)],
}, N=256)

correlation_matrix = df_kpi.corr(method= "pearson")

plt.figure(figsize=(10, 8))
sns.heatmap(correlation_matrix, annot=True, cmap=my_cmap, fmt=".2f", linewidths=0.5, vmin=-1, vmax=1)
plt.title("Correlation Matrix Heatmap of KPIs")
plt.show()
